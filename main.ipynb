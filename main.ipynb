{
 "cells": [
  {
   "cell_type": "markdown",
   "metadata": {},
   "source": [
    "# Lab 1 - Git learn"
   ]
  },
  {
   "cell_type": "markdown",
   "metadata": {},
   "source": [
    "- Используемые методы LightAutoMl\n",
    "- Sklearn RandomForest"
   ]
  },
  {
   "cell_type": "code",
   "execution_count": 1,
   "metadata": {},
   "outputs": [],
   "source": [
    "import os\n",
    "from dotenv import load_dotenv\n",
    "\n",
    "load_dotenv(dotenv_path='envs/params.env')\n",
    "\n",
    "TRAIN_DATA_URL = os.getenv('TRAIN_DATA_URL')\n",
    "TEST_DATA_URL = os.getenv('TEST_DATA_URL')\n",
    "TEST_SIZE = float(os.getenv('TEST_SIZE'))\n",
    "EPOCHS = int(os.getenv('EPOCHS'))\n",
    "MODEL_PARAMETR_1 = float(os.getenv('MODEL_PARAMETR_1'))"
   ]
  }
 ],
 "metadata": {
  "kernelspec": {
   "display_name": "Python 3",
   "language": "python",
   "name": "python3"
  },
  "language_info": {
   "codemirror_mode": {
    "name": "ipython",
    "version": 3
   },
   "file_extension": ".py",
   "mimetype": "text/x-python",
   "name": "python",
   "nbconvert_exporter": "python",
   "pygments_lexer": "ipython3",
   "version": "3.11.9"
  }
 },
 "nbformat": 4,
 "nbformat_minor": 2
}
