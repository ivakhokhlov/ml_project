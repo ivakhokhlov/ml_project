{
 "cells": [
  {
   "cell_type": "markdown",
   "metadata": {},
   "source": [
    "# Lab 1 - Git learn"
   ]
  },
  {
   "cell_type": "markdown",
   "metadata": {},
   "source": [
    "- Используемые методы LightAutoMl\n",
    "- Sklearn RandomForest"
   ]
  },
  {
   "cell_type": "code",
   "execution_count": 1,
   "metadata": {},
   "outputs": [],
   "source": [
    "import os\n",
    "from dotenv import load_dotenv\n",
    "\n",
    "load_dotenv(dotenv_path='envs/params.env')\n",
    "\n",
    "TRAIN_DATA_URL = os.getenv('TRAIN_DATA_URL')\n",
    "TEST_DATA_URL = os.getenv('TEST_DATA_URL')\n",
    "TEST_SIZE = float(os.getenv('TEST_SIZE'))\n",
    "EPOCHS = int(os.getenv('EPOCHS'))\n",
    "MODEL_PARAMETR_1 = float(os.getenv('MODEL_PARAMETR_1'))"
   ]
  },
  {
   "cell_type": "code",
   "execution_count": null,
   "metadata": {},
   "outputs": [],
   "source": [
    "import pandas as pd\n",
    "import numpy as np"
   ]
  },
  {
   "cell_type": "code",
   "execution_count": null,
   "metadata": {},
   "outputs": [],
   "source": [
    "def preprocess(data):\n",
    "    data = data.dropna()\n",
    "    return data"
   ]
  },
  {
   "cell_type": "code",
   "execution_count": 6,
   "metadata": {},
   "outputs": [
    {
     "name": "stdout",
     "output_type": "stream",
     "text": [
      "Accuracy of Logistic Regression: 0.0\n"
     ]
    }
   ],
   "source": [
    "     from sklearn.linear_model import LogisticRegression\n",
    "     from sklearn.model_selection import train_test_split\n",
    "     from sklearn.metrics import accuracy_score\n",
    "\n",
    "     X = [[1,2],[3,4],[5,6],[7,8],[9,10]]\n",
    "     y = [3,4,5,6,7]\n",
    "\n",
    "     X_train, X_test, y_train, y_test = train_test_split(X, y, test_size=0.2, random_state=42)\n",
    "\n",
    "     model1 = LogisticRegression()\n",
    "     model1.fit(X_train, y_train)\n",
    "     y_pred = model1.predict(X_test)\n",
    "     print(f\"Accuracy of Logistic Regression: {accuracy_score(y_test, y_pred)}\")\n",
    "     \n"
   ]
  }
 ],
 "metadata": {
  "kernelspec": {
   "display_name": "Python 3",
   "language": "python",
   "name": "python3"
  },
  "language_info": {
   "codemirror_mode": {
    "name": "ipython",
    "version": 3
   },
   "file_extension": ".py",
   "mimetype": "text/x-python",
   "name": "python",
   "nbconvert_exporter": "python",
   "pygments_lexer": "ipython3",
   "version": "3.11.9"
  }
 },
 "nbformat": 4,
 "nbformat_minor": 2
}
